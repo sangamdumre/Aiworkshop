{
  "nbformat": 4,
  "nbformat_minor": 0,
  "metadata": {
    "colab": {
      "provenance": []
    },
    "kernelspec": {
      "name": "python3",
      "display_name": "Python 3"
    },
    "language_info": {
      "name": "python"
    }
  },
  "cells": [
    {
      "cell_type": "code",
      "execution_count": 1,
      "metadata": {
        "colab": {
          "base_uri": "https://localhost:8080/"
        },
        "id": "7ZGR0l6GM2QT",
        "outputId": "4fae94f7-fc49-46b5-80d8-d742cf1546d4"
      },
      "outputs": [
        {
          "output_type": "stream",
          "name": "stdout",
          "text": [
            "Hello, World!\n",
            "Python version: 3.11.11 (main, Dec  4 2024, 08:55:07) [GCC 11.4.0]\n"
          ]
        }
      ],
      "source": [
        "import sys\n",
        "# Check Python version\n",
        "if sys.version_info.major == 3 and sys.version_info.minor >= 6:\n",
        "  print(\"Hello, World!\")\n",
        "  print(f\"Python version: {sys.version}\")\n",
        "else:\n",
        "  print(\"Please use Python 3.6 or higher.\")"
      ]
    },
    {
      "cell_type": "code",
      "source": [
        "# Mutable Data Type Example (List)\n",
        "my_list = [1, 2, 3]\n",
        "print(\"Original List:\", my_list)\n",
        "my_list.append(4)\n",
        "print(\"Modified List:\", my_list)\n",
        "my_tuple = (1, 2, 3)\n",
        "print(\"Original Tuple:\", my_tuple)"
      ],
      "metadata": {
        "colab": {
          "base_uri": "https://localhost:8080/"
        },
        "id": "PEO6NcVqM8wP",
        "outputId": "1fa6a98d-e0d3-458a-9e76-4631ea2b59cf"
      },
      "execution_count": 3,
      "outputs": [
        {
          "output_type": "stream",
          "name": "stdout",
          "text": [
            "Original List: [1, 2, 3]\n",
            "Modified List: [1, 2, 3, 4]\n",
            "Original Tuple: (1, 2, 3)\n"
          ]
        }
      ]
    },
    {
      "cell_type": "code",
      "source": [
        "age = 23 #int\n",
        "pi = 3.14 #float\n",
        "temperature = -5.5\n",
        "print(\"data type of variable age = \", type(age))\n",
        "print(\"data type of variable pi = \", type(pi))\n",
        "print(\"data type of variable temperature = \", type(temperature))"
      ],
      "metadata": {
        "colab": {
          "base_uri": "https://localhost:8080/"
        },
        "id": "LylbXQi_M-bP",
        "outputId": "3c49f908-5370-4b06-8eae-39866c40296f"
      },
      "execution_count": 4,
      "outputs": [
        {
          "output_type": "stream",
          "name": "stdout",
          "text": [
            "data type of variable age =  <class 'int'>\n",
            "data type of variable pi =  <class 'float'>\n",
            "data type of variable temperature =  <class 'float'>\n"
          ]
        }
      ]
    },
    {
      "cell_type": "code",
      "source": [
        "name = \"Alice\"\n",
        "greeting = 'Hello'\n",
        "address = \"123 Main St\"\n",
        "print(\"data type of the variable name = \",type(name))\n",
        "print(\"data type of the variable greeting = \",type(greeting))\n",
        "print(\"data type of the variable address = \",type(address))\n",
        "# slice only one element\n",
        "print(\"The first letter of the name is:\", name[0])\n",
        "print(\"The last letter of the name is:\", name[-1])\n",
        "# slice a range of elements\n",
        "print(\"The second letter to the fourth of the name is:\", name[1:4])\n",
        "print(\"The first two letters of the name are:\", name[:2])\n",
        "print(\"Substring starting from the third letter is:\", name[2:])"
      ],
      "metadata": {
        "colab": {
          "base_uri": "https://localhost:8080/"
        },
        "id": "MkgM-lswM-Ry",
        "outputId": "43f8d855-ea46-4f9d-8222-e6d9ca5b04e7"
      },
      "execution_count": 5,
      "outputs": [
        {
          "output_type": "stream",
          "name": "stdout",
          "text": [
            "data type of the variable name =  <class 'str'>\n",
            "data type of the variable greeting =  <class 'str'>\n",
            "data type of the variable address =  <class 'str'>\n",
            "The first letter of the name is: A\n",
            "The last letter of the name is: e\n",
            "The second letter to the fourth of the name is: lic\n",
            "The first two letters of the name are: Al\n",
            "Substring starting from the third letter is: ice\n"
          ]
        }
      ]
    },
    {
      "cell_type": "code",
      "source": [
        "list1 = [1, 2, 3, 4]\n",
        "mixed_list = [12, \"Hello\", True]\n",
        "# List is mutable\n",
        "mixed_list[0] = False\n",
        "mixed_list"
      ],
      "metadata": {
        "colab": {
          "base_uri": "https://localhost:8080/"
        },
        "id": "2e2-W7YkM-GJ",
        "outputId": "61c692f9-1993-4600-ff38-4faa2b4b5467"
      },
      "execution_count": 6,
      "outputs": [
        {
          "output_type": "execute_result",
          "data": {
            "text/plain": [
              "[False, 'Hello', True]"
            ]
          },
          "metadata": {},
          "execution_count": 6
        }
      ]
    },
    {
      "cell_type": "code",
      "source": [
        "colors = ('red', 'green', 'yellow', 'blue')\n",
        "print(\"First element:\", colors[0])\n",
        "print(\"Last two elements:\", colors[2:])\n",
        "print(\"Middle two elements:\", colors[1:3])"
      ],
      "metadata": {
        "colab": {
          "base_uri": "https://localhost:8080/"
        },
        "id": "Jl1pmNL6NICE",
        "outputId": "5ef941b1-ba40-4bf3-b470-0efd520ca4cd"
      },
      "execution_count": 7,
      "outputs": [
        {
          "output_type": "stream",
          "name": "stdout",
          "text": [
            "First element: red\n",
            "Last two elements: ('yellow', 'blue')\n",
            "Middle two elements: ('green', 'yellow')\n"
          ]
        }
      ]
    },
    {
      "cell_type": "code",
      "source": [
        "person = {'name':'John','age':30,'city':'Pittsburgh'}\n",
        "print(f\"Hello my name is {person['name']}. I am {person['age']} years old and I live at {person['city']}.\")\n",
        "print(\"All keys:\", list(person.keys()))\n",
        "print(\"All values:\", list(person.values()))"
      ],
      "metadata": {
        "colab": {
          "base_uri": "https://localhost:8080/"
        },
        "id": "8BztC6WbNJ0p",
        "outputId": "0879fdbc-6bfe-45d3-a8d1-d4eb93101a40"
      },
      "execution_count": 8,
      "outputs": [
        {
          "output_type": "stream",
          "name": "stdout",
          "text": [
            "Hello my name is John. I am 30 years old and I live at Pittsburgh.\n",
            "All keys: ['name', 'age', 'city']\n",
            "All values: ['John', 30, 'Pittsburgh']\n"
          ]
        }
      ]
    },
    {
      "cell_type": "code",
      "source": [
        "unique_numbers = {1,2,3,3,3,3,4,5}\n",
        "print(unique_numbers)"
      ],
      "metadata": {
        "colab": {
          "base_uri": "https://localhost:8080/"
        },
        "id": "vRcWC8ThNJkL",
        "outputId": "2489b824-ea6b-4f7f-f4c0-2b2653ac3091"
      },
      "execution_count": 9,
      "outputs": [
        {
          "output_type": "stream",
          "name": "stdout",
          "text": [
            "{1, 2, 3, 4, 5}\n"
          ]
        }
      ]
    },
    {
      "cell_type": "code",
      "source": [
        "is_student = True\n",
        "has_license = False\n",
        "print(\"data type of the variable is_student = \",type(is_student))\n",
        "print(\"data type of the variable has_license = \",type(has_license))"
      ],
      "metadata": {
        "colab": {
          "base_uri": "https://localhost:8080/"
        },
        "id": "FhbWYiAJNPD4",
        "outputId": "05619671-7c66-4c2f-cc3b-492d712b9fc4"
      },
      "execution_count": 10,
      "outputs": [
        {
          "output_type": "stream",
          "name": "stdout",
          "text": [
            "data type of the variable is_student =  <class 'bool'>\n",
            "data type of the variable has_license =  <class 'bool'>\n"
          ]
        }
      ]
    },
    {
      "cell_type": "markdown",
      "source": [
        "## To-do task"
      ],
      "metadata": {
        "id": "Q4rpEqTjNbxL"
      }
    },
    {
      "cell_type": "markdown",
      "source": [
        "4.1 Exercise on function:"
      ],
      "metadata": {
        "id": "n02PvKI-NiDU"
      }
    },
    {
      "cell_type": "markdown",
      "source": [
        "# Task - 1:\n",
        "Create a Python program that converts between different units of measurement.\n",
        "• The program should:\n",
        "1. Prompt the user to choose the type of conversion (e.g., length, weight, volume).\n",
        "2. Ask the user to input the value to be converted.\n",
        "3. Perform the conversion and display the result.\n",
        "4. Handle potential errors, such as invalid input or unsupported conversion types.\n",
        "\n",
        "• Requirements:\n",
        "1. Functions: Define at least one function to perform the conversion.\n",
        "2. Error Handling: Use try-except blocks to handle invalid input (e.g., non-numeric values).\n",
        "3. User Input: Prompt the user to select the conversion type and input the value.\n",
        "4. Docstrings: Include a docstring in your function to describe its purpose, parameters, and\n",
        "return value.\n",
        "\n",
        "• Conversion Options:\n",
        "1. Length:\n",
        "– Convert meters (m) to feet (ft).\n",
        "– Convert feet (ft) to meters (m).\n",
        "2. Weight:\n",
        "– Convert kilograms (kg) to pounds (lbs).\n",
        "– Convert pounds (lbs) to kilograms (kg).\n",
        "3. Volume:\n",
        "– Convert liters (L) to gallons (gal).\n",
        "– Convert gallons (gal) to liters (L)."
      ],
      "metadata": {
        "id": "-ai_5iVdNtY_"
      }
    },
    {
      "cell_type": "code",
      "source": [
        "def Length(unit,value):\n",
        "  if unit==\"m\":\n",
        "    return value * 3.28084\n",
        "  elif unit==\"ft\":\n",
        "    return value * 0.3048\n",
        "  else:\n",
        "    raise ValueError(\"Invalid unit. Use 'm' or 'ft'.\")\n",
        "\n",
        "def Weight(unit,value):\n",
        "  if unit==\"kg\":\n",
        "    return value * 2.20462\n",
        "  elif unit==\"lbs\":\n",
        "    return value * 0.453592\n",
        "  else:\n",
        "    raise ValueError(\"Invalid unit. Use 'kg' or 'lbs'.\")\n",
        "\n",
        "def Volume(unit,value):\n",
        "  if unit==\"L\":\n",
        "    return value * 0.26417\n",
        "  elif unit==\"gal\":\n",
        "    return value * 3.78541\n",
        "  else:\n",
        "    raise ValueError(\"Invalid unit. Use 'L' or 'gal'.\")\n",
        "\n",
        "\n",
        "def main():\n",
        "  print(\"Choose a type of conversion: \\n 1.Length(m<->ft) \\n 2.Weight(kg<->lbs) \\n 3.Volume(L<->gal)\")\n",
        "  try:\n",
        "    choice = int(input(\"Enter your choice(1-3): \"));\n",
        "    if choice==1:\n",
        "      unit= input(\"Enter unit (m/ft): \").lower()\n",
        "      value= float(input(\"Enter value: \"))\n",
        "      result= Length(unit,value)\n",
        "      converted_unit=\"ft\" if unit ==\"m\" else \"m\"\n",
        "    elif choice==2:\n",
        "      unit= input(\"Enter unit (kg/lbs): \").lower()\n",
        "      value= float(input(\"Enter value: \"))\n",
        "      result= Weight(unit,value)\n",
        "      converted_unit=\"lbs\" if unit ==\"kg\" else \"kg\"\n",
        "    elif choice==3:\n",
        "      unit= input(\"Enter unit (L/gal): \").lower()\n",
        "      value= float(input(\"Enter value: \"))\n",
        "      result= Volume(unit,value)\n",
        "      converted_unit=\"gal\" if unit ==\"L\" else \"L\"\n",
        "    else:\n",
        "      print(\"Invalid choice\")\n",
        "      return\n",
        "\n",
        "    print(f\"Converted Value: {result:.2f} {converted_unit}\")\n",
        "  except ValueError:\n",
        "    print(\"Invalid input. Please enter a valid number.\")\n",
        "  except Exception as e:\n",
        "    print(f\"An error occurred: {e}\")\n",
        "\n",
        "if __name__==\"__main__\":\n",
        "  main()"
      ],
      "metadata": {
        "colab": {
          "base_uri": "https://localhost:8080/"
        },
        "id": "Q3malfL7NdxO",
        "outputId": "1820523b-713f-4955-d7b1-dac50de188e6"
      },
      "execution_count": 11,
      "outputs": [
        {
          "output_type": "stream",
          "name": "stdout",
          "text": [
            "Choose a type of conversion: \n",
            " 1.Length(m<->ft) \n",
            " 2.Weight(kg<->lbs) \n",
            " 3.Volume(L<->gal)\n",
            "Enter your choice(1-3): 2\n",
            "Enter unit (kg/lbs): 2\n",
            "Enter value: 4\n",
            "Invalid input. Please enter a valid number.\n"
          ]
        }
      ]
    },
    {
      "cell_type": "markdown",
      "source": [
        "# Task - 2:\n",
        "Create a Python program that performs various mathematical operations on a list of numbers.\n",
        "• The Program should:\n",
        "1. Prompt the user to choose an operation (e.g., find the sum, average, maximum, or minimum\n",
        "of the numbers).\n",
        "2. Ask the user to input a list of numbers (separated by spaces).\n",
        "3. Perform the selected operation and display the result.\n",
        "4. Handle potential errors, such as invalid input or empty lists.\n",
        "\n",
        "• Requirements:\n",
        "1. Functions: Define at least one function for each operation (sum, average, maximum, mini-\n",
        "mum).\n",
        "2. Error Handling: Use try-except blocks to handle invalid input (e.g., non-numeric values or\n",
        "empty lists).\n",
        "3. User Input: Prompt the user to select the operation and input the list of numbers.\n",
        "4. Docstrings: Include a docstring in each function to describe its purpose, parameters, and\n",
        "return value."
      ],
      "metadata": {
        "id": "ppoPjSGDOMq3"
      }
    },
    {
      "cell_type": "code",
      "source": [
        "def calculate_sum(numbers):\n",
        "    print(f\"Calculating sum for: {numbers}\")\n",
        "    return sum(numbers)\n",
        "\n",
        "def calculate_average(numbers):\n",
        "    print(f\"Calculating average for: {numbers}\")\n",
        "    return sum(numbers) / len(numbers) if numbers else 0\n",
        "\n",
        "def find_maximum(numbers):\n",
        "    print(f\"Finding maximum for: {numbers}\")\n",
        "    return max(numbers)\n",
        "\n",
        "def find_minimum(numbers):\n",
        "    print(f\"Finding minimum for: {numbers}\")\n",
        "    return min(numbers)\n",
        "\n",
        "\n",
        "def main():\n",
        "    print(\"Choose an operation: \\n1.Sum \\n2.Average \\n3.Maximum \\n4.Minimum\")\n",
        "    try:\n",
        "        choice = int(input(\"Enter your choice(1-4): \"))\n",
        "        if choice not in [1, 2, 3, 4]:\n",
        "            print(\"Invalid choice. Number should be between 1 and 4.\")\n",
        "            return\n",
        "\n",
        "        numbers = input(\"Enter a list of numbers (separated by spaces): \").split()\n",
        "        if not numbers:  # Handle case where input is empty\n",
        "            print(\"Invalid input. Please enter a non-empty list of numbers.\")\n",
        "            return\n",
        "\n",
        "        numbers = [float(num) for num in numbers]\n",
        "\n",
        "        if choice == 1:\n",
        "            result = calculate_sum(numbers)\n",
        "            print(f\"Sum: {result}\")\n",
        "        elif choice == 2:\n",
        "            result = calculate_average(numbers)\n",
        "            print(f\"Average: {result}\")\n",
        "        elif choice == 3:\n",
        "            result = find_maximum(numbers)\n",
        "            print(f\"Maximum: {result}\")\n",
        "        elif choice == 4:\n",
        "            result = find_minimum(numbers)\n",
        "            print(f\"Minimum: {result}\")\n",
        "\n",
        "    except ValueError:\n",
        "        print(\"Invalid input. Please enter numeric values only.\")\n",
        "    except Exception as e:\n",
        "        print(f\"An error occurred: {e}\")\n",
        "\n",
        "if __name__ == \"__main__\":\n",
        "    main()\n"
      ],
      "metadata": {
        "colab": {
          "base_uri": "https://localhost:8080/"
        },
        "id": "AsCZoO-gNRan",
        "outputId": "44d14dbe-e9f9-40f9-94bd-b288d21180c5"
      },
      "execution_count": 12,
      "outputs": [
        {
          "output_type": "stream",
          "name": "stdout",
          "text": [
            "Choose an operation: \n",
            "1.Sum \n",
            "2.Average \n",
            "3.Maximum \n",
            "4.Minimum\n",
            "Enter your choice(1-4): 4\n",
            "Enter a list of numbers (separated by spaces): 3\n",
            "Finding minimum for: [3.0]\n",
            "Minimum: 3.0\n"
          ]
        }
      ]
    },
    {
      "cell_type": "markdown",
      "source": [
        "## 4.2 Exercise on List Manipulation:"
      ],
      "metadata": {
        "id": "RJ7vf6NTOhMG"
      }
    },
    {
      "cell_type": "markdown",
      "source": [
        "1. Extract Every Other Element:\n",
        "\n",
        "Write a Python function that extracts every other element from a list, starting from the first element."
      ],
      "metadata": {
        "id": "D2cV6MRdOi5e"
      }
    },
    {
      "cell_type": "code",
      "source": [
        "def extract_every_other(lst):\n",
        "  return lst[::2]\n",
        "\n",
        "print(extract_every_other([1,2,3,4,5,6]))"
      ],
      "metadata": {
        "colab": {
          "base_uri": "https://localhost:8080/"
        },
        "id": "WvTZC1EOOlHG",
        "outputId": "5c5ff522-3491-49c5-ad58-7ced3e548b4e"
      },
      "execution_count": 13,
      "outputs": [
        {
          "output_type": "stream",
          "name": "stdout",
          "text": [
            "[1, 3, 5]\n"
          ]
        }
      ]
    },
    {
      "cell_type": "markdown",
      "source": [
        "2. Slice a Sublist:\n",
        "\n",
        "Write a Python function that returns a sublist from a given list, starting from a specified index and\n",
        "ending at another specified index."
      ],
      "metadata": {
        "id": "dRv9XxdoOplx"
      }
    },
    {
      "cell_type": "code",
      "source": [
        "def get_sublist(lst, start, end):\n",
        "  return lst[start:end+1]\n",
        "\n",
        "print(get_sublist([1,2,3,4,5,6],2,4))"
      ],
      "metadata": {
        "colab": {
          "base_uri": "https://localhost:8080/"
        },
        "id": "NGSyTMPmOq8G",
        "outputId": "5c2c5cd4-316c-4267-db8b-7d8e5cb279fe"
      },
      "execution_count": 14,
      "outputs": [
        {
          "output_type": "stream",
          "name": "stdout",
          "text": [
            "[3, 4, 5]\n"
          ]
        }
      ]
    },
    {
      "cell_type": "markdown",
      "source": [
        "3. Reverse a List Using Slicing:\n",
        "\n",
        "Write a Python function that reverses a list using slicing."
      ],
      "metadata": {
        "id": "IVL5eUEdOzH3"
      }
    },
    {
      "cell_type": "code",
      "source": [
        "def reverse_list(lst):\n",
        "  return lst[::-1];\n",
        "\n",
        "print(reverse_list([1,2,3,4,5]))"
      ],
      "metadata": {
        "colab": {
          "base_uri": "https://localhost:8080/"
        },
        "id": "EZaDd8BqO0P3",
        "outputId": "6ab04560-922a-45ef-cd26-cb9d566caaaf"
      },
      "execution_count": 15,
      "outputs": [
        {
          "output_type": "stream",
          "name": "stdout",
          "text": [
            "[5, 4, 3, 2, 1]\n"
          ]
        }
      ]
    },
    {
      "cell_type": "markdown",
      "source": [
        "4. Remove the First and Last Elements:\n",
        "\n",
        "Write a Python function that removes the first and last elements of a list and returns the resulting\n",
        "sublist."
      ],
      "metadata": {
        "id": "wrkpPyfEO4QW"
      }
    },
    {
      "cell_type": "code",
      "source": [
        "def remove_first_last(lst):\n",
        "  return lst[1:-1]\n",
        "\n",
        "print(remove_first_last([1,2,3,4,5]))"
      ],
      "metadata": {
        "colab": {
          "base_uri": "https://localhost:8080/"
        },
        "id": "MvAbhxbUO47P",
        "outputId": "7d9ebc46-1fae-4396-b917-d9d41b7c3a49"
      },
      "execution_count": 16,
      "outputs": [
        {
          "output_type": "stream",
          "name": "stdout",
          "text": [
            "[2, 3, 4]\n"
          ]
        }
      ]
    },
    {
      "cell_type": "markdown",
      "source": [
        "5. Get the First n Elements:\n",
        "\n",
        "Write a Python function that extracts the first n elements from a list."
      ],
      "metadata": {
        "id": "-26b3uB4O8MH"
      }
    },
    {
      "cell_type": "code",
      "source": [
        "def get_first_n(lst,n):\n",
        "  return lst[0:n]\n",
        "\n",
        "print(get_first_n([1,2,3,4,5],3))"
      ],
      "metadata": {
        "colab": {
          "base_uri": "https://localhost:8080/"
        },
        "id": "Rx9HmC1xPAuN",
        "outputId": "06e4d6cb-388b-4548-ed86-1dec48378d2a"
      },
      "execution_count": 17,
      "outputs": [
        {
          "output_type": "stream",
          "name": "stdout",
          "text": [
            "[1, 2, 3]\n"
          ]
        }
      ]
    },
    {
      "cell_type": "markdown",
      "source": [
        "6. Extract Elements from the End:\n",
        "\n",
        "Write a Python function that extracts the last n elements of a list using slicing."
      ],
      "metadata": {
        "id": "RszA7VxrPmwX"
      }
    },
    {
      "cell_type": "code",
      "source": [
        "def get_last_n(lst,n):\n",
        "  return lst[-n:]\n",
        "\n",
        "print(get_last_n([1,2,3,4,5],3))"
      ],
      "metadata": {
        "colab": {
          "base_uri": "https://localhost:8080/"
        },
        "id": "Pk75R96XPnnq",
        "outputId": "4df25f7a-ade8-4401-e70d-6d6ec0edba21"
      },
      "execution_count": 18,
      "outputs": [
        {
          "output_type": "stream",
          "name": "stdout",
          "text": [
            "[3, 4, 5]\n"
          ]
        }
      ]
    },
    {
      "cell_type": "markdown",
      "source": [
        "7. Extract Elements in Reverse Order:\n",
        "\n",
        "Write a Python function that extracts a list of elements in reverse order starting from the second-to-last\n",
        "element and skipping one element in between."
      ],
      "metadata": {
        "id": "4vLmNtUgPx5a"
      }
    },
    {
      "cell_type": "code",
      "source": [
        "def reverse_skip(lst):\n",
        "  return lst[-2::-2]\n",
        "\n",
        "print(reverse_skip([1,2,3,4,5,6]))"
      ],
      "metadata": {
        "colab": {
          "base_uri": "https://localhost:8080/"
        },
        "id": "fZKdxshRPxPL",
        "outputId": "34f441ee-1057-4d02-bcaa-fb0571211071"
      },
      "execution_count": 19,
      "outputs": [
        {
          "output_type": "stream",
          "name": "stdout",
          "text": [
            "[5, 3, 1]\n"
          ]
        }
      ]
    },
    {
      "cell_type": "markdown",
      "source": [
        "# Exercise on Nested List:"
      ],
      "metadata": {
        "id": "hefTAkQoP3eJ"
      }
    },
    {
      "cell_type": "markdown",
      "source": [
        "1. Flatten a Nested List:\n",
        "\n",
        "Write a Python function that takes a nested list and flattens it into a single list, where all the elements\n",
        "are in a single dimension."
      ],
      "metadata": {
        "id": "14KsWdakP_ZF"
      }
    },
    {
      "cell_type": "code",
      "source": [
        "def flatten(lst):\n",
        "  flat_list=[]\n",
        "  for sublist in lst:\n",
        "    flat_list.extend(sublist)\n",
        "  return flat_list\n",
        "\n",
        "print(flatten([[1,2],[3,4],[5]]))"
      ],
      "metadata": {
        "colab": {
          "base_uri": "https://localhost:8080/"
        },
        "id": "6QJpJdypQCqW",
        "outputId": "8461194e-485c-4299-e10f-18c997339dd1"
      },
      "execution_count": 20,
      "outputs": [
        {
          "output_type": "stream",
          "name": "stdout",
          "text": [
            "[1, 2, 3, 4, 5]\n"
          ]
        }
      ]
    },
    {
      "cell_type": "markdown",
      "source": [
        "2. Accessing Nested List Elements:\n",
        "\n",
        "Write a Python function that extracts a specific element from a nested list given its indices."
      ],
      "metadata": {
        "id": "P-92ixJSQQTw"
      }
    },
    {
      "cell_type": "code",
      "source": [
        "def access_nested_element(lst, indices):\n",
        "  return lst[indices[0]][indices[1]]\n",
        "\n",
        "print(access_nested_element([[1,2,3],[4,5,6],[7,8,9]],[1,2]))"
      ],
      "metadata": {
        "colab": {
          "base_uri": "https://localhost:8080/"
        },
        "id": "D9XC1MxtQRTb",
        "outputId": "3f80846f-82df-4d9d-ae01-fadc1903aad0"
      },
      "execution_count": 21,
      "outputs": [
        {
          "output_type": "stream",
          "name": "stdout",
          "text": [
            "6\n"
          ]
        }
      ]
    },
    {
      "cell_type": "markdown",
      "source": [
        "3. Sum of All Elements in a Nested List:\n",
        "\n",
        "Write a Python function that calculates the sum of all the numbers in a nested list (regardless of depth)."
      ],
      "metadata": {
        "id": "7ujN-5YaQWrP"
      }
    },
    {
      "cell_type": "code",
      "source": [
        "def sum_nested(lst):\n",
        "    total = 0\n",
        "\n",
        "    for element in lst:\n",
        "        if isinstance(element, list):\n",
        "            total += sum_nested(element)\n",
        "        else:\n",
        "            total += element\n",
        "    return total\n",
        "print(sum_nested([[1, 2], [3, [4, 5]], 6]))"
      ],
      "metadata": {
        "colab": {
          "base_uri": "https://localhost:8080/"
        },
        "id": "lFoWrsJbQXry",
        "outputId": "fe81d80b-af12-44b1-cb7a-83b2ce2bbf45"
      },
      "execution_count": 22,
      "outputs": [
        {
          "output_type": "stream",
          "name": "stdout",
          "text": [
            "21\n"
          ]
        }
      ]
    },
    {
      "cell_type": "markdown",
      "source": [
        "4. Remove Specific Element from a Nested List:\n",
        "\n",
        "Write a Python function that removes all occurrences of a specific element from a nested list."
      ],
      "metadata": {
        "id": "VEx4NcHEQgfN"
      }
    },
    {
      "cell_type": "code",
      "source": [
        "def remove_element(lst, elem):\n",
        "  result=[]\n",
        "\n",
        "  for item in lst:\n",
        "    if isinstance(item, list):\n",
        "      filtered_sublist= remove_element(item, elem)\n",
        "      if filtered_sublist:\n",
        "        result.append(filtered_sublist)\n",
        "    elif item != elem:\n",
        "      result.append(item)\n",
        "  return result\n",
        "\n",
        "print(remove_element([[1,2],[3,2],[4,5]],2))"
      ],
      "metadata": {
        "colab": {
          "base_uri": "https://localhost:8080/"
        },
        "id": "xXEGrq79QhS_",
        "outputId": "bb668e95-e977-4e37-b80f-8000ebcbc874"
      },
      "execution_count": 23,
      "outputs": [
        {
          "output_type": "stream",
          "name": "stdout",
          "text": [
            "[[1], [3], [4, 5]]\n"
          ]
        }
      ]
    },
    {
      "cell_type": "markdown",
      "source": [
        "5. Find the Maximum Element in a Nested List:\n",
        "\n",
        "Write a Python function that finds the maximum element in a nested list (regardless of depth).\n"
      ],
      "metadata": {
        "id": "GysxZzmoQnDG"
      }
    },
    {
      "cell_type": "code",
      "source": [
        "def find_max_in_nested_list(nested_list):\n",
        "    max_value = float('-inf')\n",
        "\n",
        "    for element in nested_list:\n",
        "        if isinstance(element, list):\n",
        "            max_value = max(max_value, find_max_in_nested_list(element))\n",
        "        else:\n",
        "            max_value = max(max_value, element)\n",
        "\n",
        "    return max_value\n",
        "\n",
        "nested_list = [1, [4, 6, [8, 3]], [10, [15, 2], 7], 5]\n",
        "print(\"Maximum element:\", find_max_in_nested_list(nested_list))\n"
      ],
      "metadata": {
        "colab": {
          "base_uri": "https://localhost:8080/"
        },
        "id": "u4eZFchrQnmq",
        "outputId": "7425f4ab-8f1e-4447-cfda-70b5e37b5e2f"
      },
      "execution_count": 24,
      "outputs": [
        {
          "output_type": "stream",
          "name": "stdout",
          "text": [
            "Maximum element: 15\n"
          ]
        }
      ]
    },
    {
      "cell_type": "markdown",
      "source": [
        "6. Count Occurrences of an Element in a Nested List:\n",
        "\n",
        "Write a Python function that counts how many times a specific element appears in a nested list."
      ],
      "metadata": {
        "id": "p_kv11PiQ0_0"
      }
    },
    {
      "cell_type": "code",
      "source": [
        "def count_occurrences(nested_list, target):\n",
        "    count = 0\n",
        "\n",
        "    for element in nested_list:\n",
        "        if isinstance(element, list):\n",
        "            count += count_occurrences(element, target)\n",
        "        elif element == target:\n",
        "            count += 1\n",
        "\n",
        "    return count\n",
        "\n",
        "nested_list = [1, [2, 3, [4, 2, 2]], [5, [2, 6], 2], 2]\n",
        "target_element = 2\n",
        "print(f\"Occurrences of {target_element}:\", count_occurrences(nested_list, target_element))\n"
      ],
      "metadata": {
        "id": "v5S1OGMiQ4P_",
        "colab": {
          "base_uri": "https://localhost:8080/"
        },
        "outputId": "bbc21113-2765-474d-8e08-2e7a87ed9e28"
      },
      "execution_count": 25,
      "outputs": [
        {
          "output_type": "stream",
          "name": "stdout",
          "text": [
            "Occurrences of 2: 6\n"
          ]
        }
      ]
    },
    {
      "cell_type": "markdown",
      "source": [
        "7. Flatten a List of Lists of Lists:\n",
        "\n",
        "Write a Python function that flattens a list of lists of lists into a single list, regardless of the depth."
      ],
      "metadata": {
        "id": "VeO_D2fAQ7oH"
      }
    },
    {
      "cell_type": "code",
      "source": [
        "def flatten_list(nested_list):\n",
        "    flat_list = []\n",
        "\n",
        "    for element in nested_list:\n",
        "        if isinstance(element, list):\n",
        "            flat_list.extend(flatten_list(element))\n",
        "        else:\n",
        "            flat_list.append(element)\n",
        "\n",
        "    return flat_list\n",
        "\n",
        "nested_list = [1, [2, [3, 4], 5], [[6, 7], 8], 9]\n",
        "print(\"Flattened List:\", flatten_list(nested_list))\n"
      ],
      "metadata": {
        "id": "jEJB_IC6Q8Ry",
        "colab": {
          "base_uri": "https://localhost:8080/"
        },
        "outputId": "af00e627-29d6-49b9-ab20-097178cf436d"
      },
      "execution_count": 26,
      "outputs": [
        {
          "output_type": "stream",
          "name": "stdout",
          "text": [
            "Flattened List: [1, 2, 3, 4, 5, 6, 7, 8, 9]\n"
          ]
        }
      ]
    },
    {
      "cell_type": "markdown",
      "source": [
        "8. Nested List Average:\n",
        "\n",
        "Write a Python function that calculates the average of all elements in a nested list."
      ],
      "metadata": {
        "id": "8Kb1DJ6AQ-wu"
      }
    },
    {
      "cell_type": "code",
      "source": [
        "def calculate_average(nested_list):\n",
        "    total_sum = 0\n",
        "    total_count = 0\n",
        "\n",
        "    for element in nested_list:\n",
        "        if isinstance(element, list):\n",
        "            inner_sum, inner_count = calculate_average(element)\n",
        "            total_sum += inner_sum\n",
        "            total_count += inner_count\n",
        "        else:\n",
        "            total_sum += element\n",
        "            total_count += 1\n",
        "\n",
        "    return total_sum, total_count\n",
        "\n",
        "nested_list = [1, [2, [3, 4], 5], [[6, 7], 8], 9]\n",
        "sum_elements, count_elements = calculate_average(nested_list)\n",
        "average = sum_elements / count_elements if count_elements != 0 else 0\n",
        "print(\"Average:\", average)\n"
      ],
      "metadata": {
        "id": "h-13slYyRB3h",
        "colab": {
          "base_uri": "https://localhost:8080/"
        },
        "outputId": "d1308a41-f743-4c62-e794-6035a53abd41"
      },
      "execution_count": 27,
      "outputs": [
        {
          "output_type": "stream",
          "name": "stdout",
          "text": [
            "Average: 5.0\n"
          ]
        }
      ]
    },
    {
      "cell_type": "markdown",
      "source": [
        "# About a Numpy."
      ],
      "metadata": {
        "id": "P5TEf-s6RD6H"
      }
    },
    {
      "cell_type": "code",
      "source": [
        "import numpy as np\n",
        "# initialize an all zero array with size 2 X 3:\n",
        "zeros_arr = np.zeros((2,3))\n",
        "print(\" A zeros array is \\n\", zeros_arr, \"with dimensions\", zeros_arr.shape, \"\\n\")"
      ],
      "metadata": {
        "colab": {
          "base_uri": "https://localhost:8080/"
        },
        "id": "ryhPRl8-REne",
        "outputId": "48c1d4d7-f35a-4d27-914e-57443d7f1a33"
      },
      "execution_count": 28,
      "outputs": [
        {
          "output_type": "stream",
          "name": "stdout",
          "text": [
            " A zeros array is \n",
            " [[0. 0. 0.]\n",
            " [0. 0. 0.]] with dimensions (2, 3) \n",
            "\n"
          ]
        }
      ]
    },
    {
      "cell_type": "code",
      "source": [
        "import numpy as np\n",
        "# initialize an all zero array with size 2 X 3:\n",
        "zeros_arr = np.zeros((2,3))\n",
        "print(\" A zeros array is \\n\", zeros_arr, \"with dimensions\", zeros_arr.shape, \"\\n\")"
      ],
      "metadata": {
        "colab": {
          "base_uri": "https://localhost:8080/"
        },
        "id": "GC1mEmG-RIkt",
        "outputId": "2edf3592-9143-4204-9d69-c5d0a31ba04d"
      },
      "execution_count": 29,
      "outputs": [
        {
          "output_type": "stream",
          "name": "stdout",
          "text": [
            " A zeros array is \n",
            " [[0. 0. 0.]\n",
            " [0. 0. 0.]] with dimensions (2, 3) \n",
            "\n"
          ]
        }
      ]
    },
    {
      "cell_type": "code",
      "source": [
        "import numpy as np\n",
        "arr_1d = np.array([1, 2, 3, 4, 5])\n",
        "print(arr_1d.ndim)"
      ],
      "metadata": {
        "id": "Q-mMKQ7aRISo",
        "colab": {
          "base_uri": "https://localhost:8080/"
        },
        "outputId": "0d850a3b-b867-4816-da9c-81dd71e51d75"
      },
      "execution_count": 30,
      "outputs": [
        {
          "output_type": "stream",
          "name": "stdout",
          "text": [
            "1\n"
          ]
        }
      ]
    },
    {
      "cell_type": "code",
      "source": [
        "# For a 2-D array:\n",
        "arr_2d = np.array([[1, 2, 3],[4, 5, 6]])\n",
        "print(arr_2d.ndim)"
      ],
      "metadata": {
        "colab": {
          "base_uri": "https://localhost:8080/"
        },
        "id": "_PuTXPRMeU9e",
        "outputId": "b95dd9ae-e1b7-4e88-8d38-dd90a04b6b2e"
      },
      "execution_count": 31,
      "outputs": [
        {
          "output_type": "stream",
          "name": "stdout",
          "text": [
            "2\n"
          ]
        }
      ]
    },
    {
      "cell_type": "code",
      "source": [
        "arr_3d = np.array([[[1, 2, 3],\n",
        "[4, 5, 6]],\n",
        "[[7, 8, 9],\n",
        "[10, 11, 12]]])\n",
        "print(arr_3d.ndim)"
      ],
      "metadata": {
        "colab": {
          "base_uri": "https://localhost:8080/"
        },
        "id": "S0WQ0f6ueglI",
        "outputId": "e11baec2-e4c0-41b5-cf49-673ef6d563cb"
      },
      "execution_count": 32,
      "outputs": [
        {
          "output_type": "stream",
          "name": "stdout",
          "text": [
            "3\n"
          ]
        }
      ]
    },
    {
      "cell_type": "code",
      "source": [
        "print(arr_1d.shape)\n",
        "print(arr_2d.shape)\n",
        "print(arr_3d.shape)"
      ],
      "metadata": {
        "colab": {
          "base_uri": "https://localhost:8080/"
        },
        "id": "aDL4cBDhfZUB",
        "outputId": "b6b85838-a0d7-4d2d-f732-74738c99d305"
      },
      "execution_count": 33,
      "outputs": [
        {
          "output_type": "stream",
          "name": "stdout",
          "text": [
            "(5,)\n",
            "(2, 3)\n",
            "(2, 2, 3)\n"
          ]
        }
      ]
    },
    {
      "cell_type": "code",
      "source": [
        "print(arr_1d.size)\n",
        "print(arr_2d.size)\n",
        "print(arr_3d.size)"
      ],
      "metadata": {
        "colab": {
          "base_uri": "https://localhost:8080/"
        },
        "id": "uwsj-m5pfimE",
        "outputId": "c9d0c78a-0d62-49c4-d0f9-a596ad59c785"
      },
      "execution_count": 35,
      "outputs": [
        {
          "output_type": "stream",
          "name": "stdout",
          "text": [
            "5\n",
            "6\n",
            "12\n"
          ]
        }
      ]
    },
    {
      "cell_type": "code",
      "source": [
        "print(arr_1d.dtype)\n",
        "arr_float = np.array([1.1, 2.2, 3.3])\n",
        "print(arr_float.dtype)"
      ],
      "metadata": {
        "colab": {
          "base_uri": "https://localhost:8080/"
        },
        "id": "jyeIlCgDfnZ7",
        "outputId": "6d9d6577-c2d4-454a-e794-1aaada6ffdbe"
      },
      "execution_count": 34,
      "outputs": [
        {
          "output_type": "stream",
          "name": "stdout",
          "text": [
            "int64\n",
            "float64\n"
          ]
        }
      ]
    },
    {
      "cell_type": "code",
      "source": [
        "print(arr_1d.itemsize)"
      ],
      "metadata": {
        "colab": {
          "base_uri": "https://localhost:8080/"
        },
        "id": "hiYLxP0Mf19x",
        "outputId": "ae8bfcbe-c347-4e0d-80d9-83a0be87f678"
      },
      "execution_count": 36,
      "outputs": [
        {
          "output_type": "stream",
          "name": "stdout",
          "text": [
            "8\n"
          ]
        }
      ]
    },
    {
      "cell_type": "code",
      "source": [
        "print(arr_1d.nbytes)"
      ],
      "metadata": {
        "colab": {
          "base_uri": "https://localhost:8080/"
        },
        "id": "9HEnDHuYgCHz",
        "outputId": "b12c7af0-9f23-4ebf-ce7a-1797d158662e"
      },
      "execution_count": 37,
      "outputs": [
        {
          "output_type": "stream",
          "name": "stdout",
          "text": [
            "40\n"
          ]
        }
      ]
    },
    {
      "cell_type": "code",
      "source": [
        "print(arr_2d.T)"
      ],
      "metadata": {
        "colab": {
          "base_uri": "https://localhost:8080/"
        },
        "id": "kTUqIZqcgEiy",
        "outputId": "5ccada71-12f7-4105-da35-2a724aedd004"
      },
      "execution_count": 38,
      "outputs": [
        {
          "output_type": "stream",
          "name": "stdout",
          "text": [
            "[[1 4]\n",
            " [2 5]\n",
            " [3 6]]\n"
          ]
        }
      ]
    },
    {
      "cell_type": "code",
      "source": [
        "arr_complex = np.array([1+2j, 3+4j])\n",
        "print(arr_complex.real)\n",
        "print(arr_complex.imag)"
      ],
      "metadata": {
        "colab": {
          "base_uri": "https://localhost:8080/"
        },
        "id": "AvHZ6nqxhqUU",
        "outputId": "5e0e3de4-5655-41ca-9227-68b6bc376ff3"
      },
      "execution_count": 39,
      "outputs": [
        {
          "output_type": "stream",
          "name": "stdout",
          "text": [
            "[1. 3.]\n",
            "[2. 4.]\n"
          ]
        }
      ]
    },
    {
      "cell_type": "code",
      "source": [
        "arr_float = arr_2d.astype(float)\n",
        "print(arr_float)"
      ],
      "metadata": {
        "colab": {
          "base_uri": "https://localhost:8080/"
        },
        "id": "DL_PcQ7Xh25P",
        "outputId": "9c76a2a9-1f3a-4586-ba96-817cc41f7fbd"
      },
      "execution_count": 40,
      "outputs": [
        {
          "output_type": "stream",
          "name": "stdout",
          "text": [
            "[[1. 2. 3.]\n",
            " [4. 5. 6.]]\n"
          ]
        }
      ]
    },
    {
      "cell_type": "code",
      "source": [
        "import numpy as np\n",
        "array = np.array([[1, 2, 3],\n",
        "[4, 5, 6]])\n",
        "\n",
        "reshaped_array = array.reshape(3, 2)\n",
        "print(\"Original Shape:\", array.shape, \"\\nReshaped Shape:\", reshaped_array.shape)"
      ],
      "metadata": {
        "colab": {
          "base_uri": "https://localhost:8080/"
        },
        "id": "2mmC0aRqh7wE",
        "outputId": "0e6a17e5-cd3f-4ec0-d07f-2c651b1ab690"
      },
      "execution_count": 41,
      "outputs": [
        {
          "output_type": "stream",
          "name": "stdout",
          "text": [
            "Original Shape: (2, 3) \n",
            "Reshaped Shape: (3, 2)\n"
          ]
        }
      ]
    },
    {
      "cell_type": "code",
      "source": [
        "import numpy as np\n",
        "a = np.arange(1, 10)\n",
        "print(a)\n",
        "x = range(1, 10)\n",
        "print(x)\n",
        "print(list(x))\n",
        "x = np.arange(10.4)\n",
        "print(x)\n",
        "x = np.arange(0.5, 10.4, 0.8)\n",
        "print(x)"
      ],
      "metadata": {
        "colab": {
          "base_uri": "https://localhost:8080/"
        },
        "id": "4BFCWSCkiYmG",
        "outputId": "cae48040-7c9f-4743-eedb-d53b4daa3601"
      },
      "execution_count": 42,
      "outputs": [
        {
          "output_type": "stream",
          "name": "stdout",
          "text": [
            "[1 2 3 4 5 6 7 8 9]\n",
            "range(1, 10)\n",
            "[1, 2, 3, 4, 5, 6, 7, 8, 9]\n",
            "[ 0.  1.  2.  3.  4.  5.  6.  7.  8.  9. 10.]\n",
            "[ 0.5  1.3  2.1  2.9  3.7  4.5  5.3  6.1  6.9  7.7  8.5  9.3 10.1]\n"
          ]
        }
      ]
    },
    {
      "cell_type": "code",
      "source": [
        "import numpy as np\n",
        "\n",
        "print(np.linspace(1, 10))\n",
        "print(np.linspace(1, 10, 7))\n",
        "print(np.linspace(1, 10, 7, endpoint=False))"
      ],
      "metadata": {
        "colab": {
          "base_uri": "https://localhost:8080/"
        },
        "id": "-XROCJMUirAr",
        "outputId": "3cde58dd-8486-489f-dd73-fc464bb94343"
      },
      "execution_count": 43,
      "outputs": [
        {
          "output_type": "stream",
          "name": "stdout",
          "text": [
            "[ 1.          1.18367347  1.36734694  1.55102041  1.73469388  1.91836735\n",
            "  2.10204082  2.28571429  2.46938776  2.65306122  2.83673469  3.02040816\n",
            "  3.20408163  3.3877551   3.57142857  3.75510204  3.93877551  4.12244898\n",
            "  4.30612245  4.48979592  4.67346939  4.85714286  5.04081633  5.2244898\n",
            "  5.40816327  5.59183673  5.7755102   5.95918367  6.14285714  6.32653061\n",
            "  6.51020408  6.69387755  6.87755102  7.06122449  7.24489796  7.42857143\n",
            "  7.6122449   7.79591837  7.97959184  8.16326531  8.34693878  8.53061224\n",
            "  8.71428571  8.89795918  9.08163265  9.26530612  9.44897959  9.63265306\n",
            "  9.81632653 10.        ]\n",
            "[ 1.   2.5  4.   5.5  7.   8.5 10. ]\n",
            "[1.         2.28571429 3.57142857 4.85714286 6.14285714 7.42857143\n",
            " 8.71428571]\n"
          ]
        }
      ]
    },
    {
      "cell_type": "code",
      "source": [
        "import numpy as np\n",
        "\n",
        "a = np.arange(1, 10)\n",
        "print(a)\n"
      ],
      "metadata": {
        "colab": {
          "base_uri": "https://localhost:8080/"
        },
        "id": "hzg4nkK5i8p-",
        "outputId": "56aaca43-b1bc-4d21-a3ab-d7cdc5063865"
      },
      "execution_count": 44,
      "outputs": [
        {
          "output_type": "stream",
          "name": "stdout",
          "text": [
            "[1 2 3 4 5 6 7 8 9]\n"
          ]
        }
      ]
    },
    {
      "cell_type": "code",
      "source": [
        "x = range(1, 10)\n",
        "print(x)  # x is an iterator\n",
        "print(list(x))\n"
      ],
      "metadata": {
        "colab": {
          "base_uri": "https://localhost:8080/"
        },
        "id": "XhXDHxkFkD7z",
        "outputId": "1df03bae-7b9f-4869-ba55-ff18851a72ba"
      },
      "execution_count": 45,
      "outputs": [
        {
          "output_type": "stream",
          "name": "stdout",
          "text": [
            "range(1, 10)\n",
            "[1, 2, 3, 4, 5, 6, 7, 8, 9]\n"
          ]
        }
      ]
    },
    {
      "cell_type": "code",
      "source": [
        "x = np.arange(10.4)\n",
        "print(x)\n"
      ],
      "metadata": {
        "colab": {
          "base_uri": "https://localhost:8080/"
        },
        "id": "fJAb35xrkOeZ",
        "outputId": "2f407e50-d43f-4463-d29f-7892d06cf5f1"
      },
      "execution_count": 46,
      "outputs": [
        {
          "output_type": "stream",
          "name": "stdout",
          "text": [
            "[ 0.  1.  2.  3.  4.  5.  6.  7.  8.  9. 10.]\n"
          ]
        }
      ]
    },
    {
      "cell_type": "code",
      "source": [
        "import numpy as np\n",
        "ones_array = np.ones((2, 3))\n",
        "zeros_array = np.zeros((3, 2))\n",
        "empty_array = np.empty((2, 2))\n",
        "identity_matrix = np.eye(3)\n",
        "\n",
        "print(ones_array, zeros_array, empty_array, identity_matrix, sep=\"\\n\\n\")\n"
      ],
      "metadata": {
        "colab": {
          "base_uri": "https://localhost:8080/"
        },
        "id": "CFYJcNMckxLy",
        "outputId": "447453e1-9417-445e-a752-68bdb0f9dfd9"
      },
      "execution_count": 47,
      "outputs": [
        {
          "output_type": "stream",
          "name": "stdout",
          "text": [
            "[[1. 1. 1.]\n",
            " [1. 1. 1.]]\n",
            "\n",
            "[[0. 0.]\n",
            " [0. 0.]\n",
            " [0. 0.]]\n",
            "\n",
            "[[4.06961872e-320 0.00000000e+000]\n",
            " [2.53578497e-311 1.39067116e-309]]\n",
            "\n",
            "[[1. 0. 0.]\n",
            " [0. 1. 0.]\n",
            " [0. 0. 1.]]\n"
          ]
        }
      ]
    },
    {
      "cell_type": "code",
      "source": [
        "import numpy as np\n",
        "array_from_list = np.array([1, 2, 3])\n",
        "array_from_tuple = np.array((4, 5, 6))\n",
        "array_from_nested_list = np.array([[1, 2, 3], [4, 5, 6]])\n",
        "\n",
        "print(array_from_list, array_from_tuple, array_from_nested_list, sep=\"\\n\")\n"
      ],
      "metadata": {
        "colab": {
          "base_uri": "https://localhost:8080/"
        },
        "id": "ILfUw7ailC95",
        "outputId": "6a157043-421c-4d25-bf68-e48e73f3e8d9"
      },
      "execution_count": 48,
      "outputs": [
        {
          "output_type": "stream",
          "name": "stdout",
          "text": [
            "[1 2 3]\n",
            "[4 5 6]\n",
            "[[1 2 3]\n",
            " [4 5 6]]\n"
          ]
        }
      ]
    },
    {
      "cell_type": "code",
      "source": [
        "import numpy as np\n",
        "\n",
        "arr = np.array([[1, 2, 3], [4, 5, 6]])\n",
        "zeros = np.zeros(arr.shape)\n",
        "ones = np.ones(arr.shape)\n",
        "empty = np.empty(arr.shape)\n",
        "\n",
        "print(arr, zeros, ones, empty, sep=\"\\n\")\n"
      ],
      "metadata": {
        "colab": {
          "base_uri": "https://localhost:8080/"
        },
        "id": "MCdHHU-klP_g",
        "outputId": "d4467ae8-0a2e-4ece-c8a6-419df93330a7"
      },
      "execution_count": 49,
      "outputs": [
        {
          "output_type": "stream",
          "name": "stdout",
          "text": [
            "[[1 2 3]\n",
            " [4 5 6]]\n",
            "[[0. 0. 0.]\n",
            " [0. 0. 0.]]\n",
            "[[1. 1. 1.]\n",
            " [1. 1. 1.]]\n",
            "[[1.67932379e-316 0.00000000e+000 5.32221743e-317]\n",
            " [6.73957537e-310 6.73957536e-310 6.73957537e-310]]\n"
          ]
        }
      ]
    },
    {
      "cell_type": "code",
      "source": [
        "import numpy as np\n",
        "\n",
        "arr1 = np.array([[1, 2], [3, 4]])\n",
        "arr2 = np.array([[5, 6], [7, 8]])\n",
        "hstacked = np.hstack((arr1, arr2))\n",
        "vstacked = np.vstack((arr1, arr2))\n",
        "colstacked = np.column_stack((arr1, arr2))\n",
        "\n",
        "print(hstacked, vstacked, colstacked, sep=\"\\n\")\n"
      ],
      "metadata": {
        "colab": {
          "base_uri": "https://localhost:8080/"
        },
        "id": "jsvGCiyVlkXX",
        "outputId": "a3f79c57-e02e-4b4c-a360-ceec1e1053c3"
      },
      "execution_count": 50,
      "outputs": [
        {
          "output_type": "stream",
          "name": "stdout",
          "text": [
            "[[1 2 5 6]\n",
            " [3 4 7 8]]\n",
            "[[1 2]\n",
            " [3 4]\n",
            " [5 6]\n",
            " [7 8]]\n",
            "[[1 2 5 6]\n",
            " [3 4 7 8]]\n"
          ]
        }
      ]
    },
    {
      "cell_type": "code",
      "source": [
        "import numpy as np\n",
        "\n",
        "arr1 = np.array([[[1], [2]], [[3], [4]]])\n",
        "arr2 = np.array([[[5], [6]], [[7], [8]]])\n",
        "\n",
        "concat_axis0 = np.concatenate((arr1, arr2), axis=0)\n",
        "concat_axis1 = np.concatenate((arr1, arr2), axis=1)\n",
        "concat_axis2 = np.concatenate((arr1, arr2), axis=2)\n",
        "\n",
        "print(\"Concatenation along axis 0 (Vertical stacking):\\n\", concat_axis0)\n",
        "print(\"Shape of concatenated array along axis 0:\", concat_axis0.shape)\n",
        "\n",
        "print(\"\\nConcatenation along axis 1 (Horizontal stacking):\\n\", concat_axis1)\n",
        "print(\"Shape of concatenated array along axis 1:\", concat_axis1.shape)\n",
        "\n",
        "print(\"\\nConcatenation along axis 2 (Depth stacking):\\n\", concat_axis2)\n",
        "print(\"Shape of concatenated array along axis 2:\", concat_axis2.shape)\n"
      ],
      "metadata": {
        "colab": {
          "base_uri": "https://localhost:8080/"
        },
        "id": "JLTRmsVrlxjU",
        "outputId": "0527ec44-4737-496f-f013-7aa0ce4271d8"
      },
      "execution_count": 51,
      "outputs": [
        {
          "output_type": "stream",
          "name": "stdout",
          "text": [
            "Concatenation along axis 0 (Vertical stacking):\n",
            " [[[1]\n",
            "  [2]]\n",
            "\n",
            " [[3]\n",
            "  [4]]\n",
            "\n",
            " [[5]\n",
            "  [6]]\n",
            "\n",
            " [[7]\n",
            "  [8]]]\n",
            "Shape of concatenated array along axis 0: (4, 2, 1)\n",
            "\n",
            "Concatenation along axis 1 (Horizontal stacking):\n",
            " [[[1]\n",
            "  [2]\n",
            "  [5]\n",
            "  [6]]\n",
            "\n",
            " [[3]\n",
            "  [4]\n",
            "  [7]\n",
            "  [8]]]\n",
            "Shape of concatenated array along axis 1: (2, 4, 1)\n",
            "\n",
            "Concatenation along axis 2 (Depth stacking):\n",
            " [[[1 5]\n",
            "  [2 6]]\n",
            "\n",
            " [[3 7]\n",
            "  [4 8]]]\n",
            "Shape of concatenated array along axis 2: (2, 2, 2)\n"
          ]
        }
      ]
    },
    {
      "cell_type": "code",
      "source": [
        "import numpy as np\n",
        "\n",
        "arr1 = np.array([[1, 2], [3, 4]])\n",
        "arr2 = np.array([5, 6])\n",
        "try:\n",
        "    hstacked = np.hstack((arr1, arr2))\n",
        "except ValueError as e:\n",
        "    print(f\"Error: {e}\")\n",
        "arr2 = np.array([5, 6]).reshape(2, 1)\n",
        "hstacked = np.hstack((arr1, arr2))\n",
        "print(hstacked)\n"
      ],
      "metadata": {
        "colab": {
          "base_uri": "https://localhost:8080/"
        },
        "id": "6eZ9AcUXmKWT",
        "outputId": "2f9578fe-ac13-49e7-dd55-7c11a8ce4ef4"
      },
      "execution_count": 52,
      "outputs": [
        {
          "output_type": "stream",
          "name": "stdout",
          "text": [
            "Error: all the input arrays must have same number of dimensions, but the array at index 0 has 2 dimension(s) and the array at index 1 has 1 dimension(s)\n",
            "[[1 2 5]\n",
            " [3 4 6]]\n"
          ]
        }
      ]
    },
    {
      "cell_type": "code",
      "source": [
        "import numpy as np\n",
        "\n",
        "arr1 = np.array([[[1, 2], [3, 4]]])\n",
        "arr2 = np.array([[5, 6], [7, 8]])\n",
        "try:\n",
        "    vstacked = np.vstack((arr1, arr2))\n",
        "except ValueError as e:\n",
        "    print(f\"Error: {e}\")\n",
        "\n",
        "arr1 = arr1.reshape(2, 2)\n",
        "vstacked = np.vstack((arr1, arr2))\n",
        "print(vstacked)\n"
      ],
      "metadata": {
        "colab": {
          "base_uri": "https://localhost:8080/"
        },
        "id": "M0lELM2Pm9a7",
        "outputId": "ee0e2d98-7673-486e-9c89-0c64ffb40a39"
      },
      "execution_count": 53,
      "outputs": [
        {
          "output_type": "stream",
          "name": "stdout",
          "text": [
            "Error: all the input arrays must have same number of dimensions, but the array at index 0 has 3 dimension(s) and the array at index 1 has 2 dimension(s)\n",
            "[[1 2]\n",
            " [3 4]\n",
            " [5 6]\n",
            " [7 8]]\n"
          ]
        }
      ]
    },
    {
      "cell_type": "code",
      "source": [
        "import numpy as np\n",
        "array = np.array([[1, 2, 3], [4, 5, 6], [7, 8, 9]])\n",
        "print(array[0, 1])\n",
        "print(array[-1, -1])\n",
        "print(array[0:2, 1:3])"
      ],
      "metadata": {
        "colab": {
          "base_uri": "https://localhost:8080/"
        },
        "id": "YJKXGddLnyHP",
        "outputId": "208269da-24a1-4c6b-fac3-be975d0e2ce6"
      },
      "execution_count": 54,
      "outputs": [
        {
          "output_type": "stream",
          "name": "stdout",
          "text": [
            "2\n",
            "9\n",
            "[[2 3]\n",
            " [5 6]]\n"
          ]
        }
      ]
    },
    {
      "cell_type": "code",
      "source": [
        "import numpy as np\n",
        "arr = np.array([1, 4, 9, 16])\n",
        "squared = np.square(arr)\n",
        "sqrt = np.sqrt(arr)\n",
        "print(f\"Squared: {squared}\")\n",
        "print(f\"Square root: {sqrt}\")"
      ],
      "metadata": {
        "colab": {
          "base_uri": "https://localhost:8080/"
        },
        "id": "4zNfjXuCn3g6",
        "outputId": "d8d8de58-3183-49b2-b610-8ece6ce72267"
      },
      "execution_count": 55,
      "outputs": [
        {
          "output_type": "stream",
          "name": "stdout",
          "text": [
            "Squared: [  1  16  81 256]\n",
            "Square root: [1. 2. 3. 4.]\n"
          ]
        }
      ]
    },
    {
      "cell_type": "code",
      "source": [
        "import numpy as np\n",
        "angles = np.array([0, np.pi / 4, np.pi / 2])\n",
        "sine_values = np.sin(angles)\n",
        "log_values = np.log(arr)"
      ],
      "metadata": {
        "id": "UgvgKtXEob-U"
      },
      "execution_count": 56,
      "outputs": []
    },
    {
      "cell_type": "code",
      "source": [
        "import numpy as np\n",
        "# Matrix multiplication\n",
        "A = np.array([[1, 2], [3, 4]])\n",
        "B = np.array([[5, 6], [7, 8]])\n",
        "product = np.dot(A, B)\n",
        "det = np.linalg.det(A)\n",
        "inverse = np.linalg.inv(A)\n",
        "eigvals, eigvecs = np.linalg.eig(A)\n",
        "print(f\"Matrix Product:\\n{product}\")\n",
        "print(f\"Determinant: {det}\")\n",
        "print(f\"Inverse:\\n{inverse}\")\n",
        "print(f\"Eigenvalues: {eigvals}, Eigenvectors:\\n{eigvecs}\")"
      ],
      "metadata": {
        "colab": {
          "base_uri": "https://localhost:8080/"
        },
        "id": "A1D4KgVjoinW",
        "outputId": "af347753-29b8-4550-c587-c2fe69d74629"
      },
      "execution_count": 57,
      "outputs": [
        {
          "output_type": "stream",
          "name": "stdout",
          "text": [
            "Matrix Product:\n",
            "[[19 22]\n",
            " [43 50]]\n",
            "Determinant: -2.0000000000000004\n",
            "Inverse:\n",
            "[[-2.   1. ]\n",
            " [ 1.5 -0.5]]\n",
            "Eigenvalues: [-0.37228132  5.37228132], Eigenvectors:\n",
            "[[-0.82456484 -0.41597356]\n",
            " [ 0.56576746 -0.90937671]]\n"
          ]
        }
      ]
    },
    {
      "cell_type": "code",
      "source": [
        "import numpy as np\n",
        "A = np.array([[1], [2], [3]])\n",
        "B = np.array([10, 20, 30])\n",
        "C = A + B # Works! Result shape: (3,3)\n",
        "print(C)"
      ],
      "metadata": {
        "colab": {
          "base_uri": "https://localhost:8080/"
        },
        "id": "c4jDMGHKorhV",
        "outputId": "8fd8b820-fcc8-4ab8-ce76-ed38102386b8"
      },
      "execution_count": 58,
      "outputs": [
        {
          "output_type": "stream",
          "name": "stdout",
          "text": [
            "[[11 21 31]\n",
            " [12 22 32]\n",
            " [13 23 33]]\n"
          ]
        }
      ]
    },
    {
      "cell_type": "code",
      "source": [
        "A = np.array([[1, 2, 3]]) # Shape (1,3)\n",
        "B = np.array([[4], [5], [6]]) # Shape (3,1)\n",
        "C = A + B #Works! Result shape: (3,3)\n",
        "print(C)"
      ],
      "metadata": {
        "colab": {
          "base_uri": "https://localhost:8080/"
        },
        "id": "142aMKWoouvF",
        "outputId": "61fe1ea3-384a-4f45-99ac-09b69272b940"
      },
      "execution_count": 59,
      "outputs": [
        {
          "output_type": "stream",
          "name": "stdout",
          "text": [
            "[[5 6 7]\n",
            " [6 7 8]\n",
            " [7 8 9]]\n"
          ]
        }
      ]
    },
    {
      "cell_type": "code",
      "source": [
        "import numpy as np\n",
        "import time\n",
        "\n",
        "# Create two large arrays\n",
        "size = 10**6\n",
        "a = np.random.rand(size)\n",
        "b = np.random.rand(size)\n",
        "\n",
        "# Using a loop\n",
        "start_time = time.time()\n",
        "result_loop = np.zeros(size)\n",
        "for i in range(size):\n",
        "    result_loop[i] = a[i] + b[i]\n",
        "end_time = time.time()\n",
        "loop_time = end_time - start_time\n",
        "print(f\"Loop Execution Time: {loop_time:.5f} seconds\")\n",
        "\n",
        "# Using NumPy’s vectorized operations\n",
        "start_time = time.time()\n",
        "result_vectorized = a + b\n",
        "end_time = time.time()\n",
        "vectorized_time = end_time - start_time\n",
        "print(f\"Vectorized Execution Time: {vectorized_time:.5f} seconds\")\n",
        "\n",
        "speedup = loop_time / vectorized_time\n",
        "print(f\"Vectorization is approximately {speedup:.2f} times faster!\")\n"
      ],
      "metadata": {
        "colab": {
          "base_uri": "https://localhost:8080/"
        },
        "id": "a65YVmIQpDNi",
        "outputId": "d110d78e-d675-41ad-8f3b-43fc3fc77883"
      },
      "execution_count": 60,
      "outputs": [
        {
          "output_type": "stream",
          "name": "stdout",
          "text": [
            "Loop Execution Time: 0.46876 seconds\n",
            "Vectorized Execution Time: 0.00486 seconds\n",
            "Vectorization is approximately 96.40 times faster!\n"
          ]
        }
      ]
    }
  ]
}