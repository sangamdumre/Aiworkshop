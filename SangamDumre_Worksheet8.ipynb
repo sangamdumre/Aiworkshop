{
  "nbformat": 4,
  "nbformat_minor": 0,
  "metadata": {
    "colab": {
      "provenance": []
    },
    "kernelspec": {
      "name": "python3",
      "display_name": "Python 3"
    },
    "language_info": {
      "name": "python"
    }
  },
  "cells": [
    {
      "cell_type": "markdown",
      "source": [
        "**WORKSHEET 8**"
      ],
      "metadata": {
        "id": "pCsVz6KkJSLb"
      }
    },
    {
      "cell_type": "markdown",
      "source": [
        "# Necessary Imports"
      ],
      "metadata": {
        "id": "adiZ56ro8Vcz"
      }
    },
    {
      "cell_type": "code",
      "source": [
        "import pandas as pd\n",
        "import re\n",
        "import string\n",
        "import nltk\n",
        "from nltk.corpus import stopwords\n",
        "from nltk.stem import PorterStemmer\n",
        "from nltk.stem import WordNetLemmatizer\n",
        "from nltk.tokenize import word_tokenize\n",
        "from sklearn.model_selection import train_test_split\n",
        "from sklearn.feature_extraction.text import TfidfVectorizer\n",
        "from sklearn.linear_model import LogisticRegression\n",
        "from sklearn.metrics import classification_report\n",
        "\n",
        "# Download all required NLTK data\n",
        "nltk.download('punkt')\n",
        "nltk.download('stopwords')\n",
        "nltk.download('wordnet')\n",
        "nltk.download('omw-1.4')  # Required for WordNet lemmatization\n",
        "nltk.download('punkt_tab')  # Specifically for the punkt tables\n",
        "\n",
        "# Initialize stemmer and lemmatizer\n",
        "stemmer = PorterStemmer()\n",
        "lemmatizer = WordNetLemmatizer()\n",
        "stop_words = set(stopwords.words('english'))"
      ],
      "metadata": {
        "colab": {
          "base_uri": "https://localhost:8080/"
        },
        "id": "qYhUDcpS99br",
        "outputId": "c6cae104-c30b-4b3e-bbc5-5cc10690b8de"
      },
      "execution_count": null,
      "outputs": [
        {
          "output_type": "stream",
          "name": "stderr",
          "text": [
            "[nltk_data] Downloading package punkt to /root/nltk_data...\n",
            "[nltk_data]   Package punkt is already up-to-date!\n",
            "[nltk_data] Downloading package stopwords to /root/nltk_data...\n",
            "[nltk_data]   Package stopwords is already up-to-date!\n",
            "[nltk_data] Downloading package wordnet to /root/nltk_data...\n",
            "[nltk_data]   Package wordnet is already up-to-date!\n",
            "[nltk_data] Downloading package omw-1.4 to /root/nltk_data...\n",
            "[nltk_data]   Package omw-1.4 is already up-to-date!\n",
            "[nltk_data] Downloading package punkt_tab to /root/nltk_data...\n",
            "[nltk_data]   Package punkt_tab is already up-to-date!\n"
          ]
        }
      ]
    },
    {
      "cell_type": "markdown",
      "source": [
        "## Helper Function for Text Cleaning:\n",
        "\n",
        "Implement a Helper Function as per Text Preprocessing Notebook and Complete the following pipeline."
      ],
      "metadata": {
        "id": "SxV-QBHp-B6J"
      }
    },
    {
      "cell_type": "markdown",
      "source": [
        "# Build a Text Cleaning Pipeline"
      ],
      "metadata": {
        "id": "B-llg-TI_Drw"
      }
    },
    {
      "cell_type": "code",
      "source": [
        "def text_cleaning_pipeline(text, rule=\"lemmatize\"):\n",
        "    \"\"\"\n",
        "    This function performs text cleaning and preprocessing on input text.\n",
        "    Steps include:\n",
        "    1. Lowercasing\n",
        "    2. Removing URLs\n",
        "    3. Removing emojis\n",
        "    4. Removing punctuation and special characters\n",
        "    5. Tokenization\n",
        "    6. Stopword removal\n",
        "    7. Stemming or lemmatization\n",
        "\n",
        "    Parameters:\n",
        "    - text: Input text to clean\n",
        "    - rule: Either \"lemmatize\" or \"stem\" for word normalization\n",
        "\n",
        "    Returns:\n",
        "    - Cleaned text as a single string\n",
        "    \"\"\"\n",
        "    if not isinstance(text, str):\n",
        "        return \"\"\n",
        "\n",
        "    # Convert the input to lowercase\n",
        "    data = text.lower()\n",
        "\n",
        "    # Remove URLs\n",
        "    data = re.sub(r'http\\S+|www\\S+|https\\S+', '', data, flags=re.MULTILINE)\n",
        "\n",
        "    # Remove emojis\n",
        "    emoji_pattern = re.compile(\"[\"\n",
        "                           u\"\\U0001F600-\\U0001F64F\"  # emoticons\n",
        "                           u\"\\U0001F300-\\U0001F5FF\"  # symbols & pictographs\n",
        "                           u\"\\U0001F680-\\U0001F6FF\"  # transport & map symbols\n",
        "                           u\"\\U0001F1E0-\\U0001F1FF\"  # flags (iOS)\n",
        "                           u\"\\U00002702-\\U000027B0\"\n",
        "                           u\"\\U000024C2-\\U0001F251\"\n",
        "                           \"]+\", flags=re.UNICODE)\n",
        "    data = emoji_pattern.sub(r'', data)\n",
        "\n",
        "    # Remove all other unwanted characters\n",
        "    data = re.sub(r'@\\w+', '', data)  # Remove mentions\n",
        "    data = re.sub(r'#', '', data)  # Remove hashtag symbol\n",
        "    data = re.sub(r'[^\\w\\s]', '', data)  # Remove punctuation\n",
        "    data = re.sub(r'\\d+', '', data)  # Remove numbers\n",
        "\n",
        "    # Create tokens\n",
        "    tokens = word_tokenize(data)\n",
        "\n",
        "    # Remove stopwords\n",
        "    tokens = [word for word in tokens if word not in stop_words and word not in string.punctuation]\n",
        "\n",
        "    # Apply stemming or lemmatization\n",
        "    if rule == \"lemmatize\":\n",
        "        tokens = [lemmatizer.lemmatize(word) for word in tokens]\n",
        "    elif rule == \"stem\":\n",
        "        tokens = [stemmer.stem(word) for word in tokens]\n",
        "    else:\n",
        "        print(\"Pick between lemmatize or stem\")\n",
        "\n",
        "    return \" \".join(tokens)"
      ],
      "metadata": {
        "id": "KCT1T3-68tN9"
      },
      "execution_count": null,
      "outputs": []
    },
    {
      "cell_type": "markdown",
      "source": [
        "# Text Classification using Machine Learning Models\n"
      ],
      "metadata": {
        "id": "hzMm4-1KCNkH"
      }
    },
    {
      "cell_type": "markdown",
      "source": [
        "### 📝 Instructions: Trump Tweet Sentiment Classification\n",
        "\n",
        "1. **Load the Dataset**  \n",
        "   Load the dataset named `\"trump_tweet_sentiment_analysis.csv\"` using `pandas`. Ensure the dataset contains at least two columns: `\"text\"` and `\"label\"`.\n",
        "\n"
      ],
      "metadata": {
        "id": "oFltIxr9L2Wu"
      }
    },
    {
      "cell_type": "code",
      "source": [
        "# Load the dataset - handling potential empty rows\n",
        "df = pd.read_csv(\"/content/drive/MyDrive/AIsem6/workshop8/trum_tweet_sentiment_analysis.csv\", usecols=['text', 'Sentiment'])\n",
        "df = df.dropna(subset=['text'])  # Drop rows where text is NaN\n",
        "df = df[df['text'].str.strip().astype(bool)]  # Drop empty strings"
      ],
      "metadata": {
        "id": "qF-bquKo8z_X"
      },
      "execution_count": null,
      "outputs": []
    },
    {
      "cell_type": "markdown",
      "source": [
        "2. **Text Cleaning and Tokenization**  \n",
        "   Apply a text preprocessing pipeline to the `\"text\"` column. This should include:\n",
        "   - Lowercasing the text  \n",
        "   - Removing URLs, mentions, punctuation, and special characters  \n",
        "   - Removing stopwords  \n",
        "   - Tokenization (optional: stemming or lemmatization)\n",
        "   - \"Complete the above function\""
      ],
      "metadata": {
        "id": "hxk-SQ818nl5"
      }
    },
    {
      "cell_type": "code",
      "source": [
        "# Apply text cleaning pipeline\n",
        "print(\"Cleaning text data...\")\n",
        "df['cleaned_text'] = df['text'].apply(lambda x: text_cleaning_pipeline(x, rule=\"lemmatize\"))\n",
        "\n",
        "# Check class distribution\n",
        "print(\"\\nSentiment distribution:\")\n",
        "print(df['Sentiment'].value_counts())"
      ],
      "metadata": {
        "colab": {
          "base_uri": "https://localhost:8080/"
        },
        "id": "6Zyv6HJL83Ao",
        "outputId": "84dd7a4e-f032-4fda-ab44-59beafc3cbe7"
      },
      "execution_count": null,
      "outputs": [
        {
          "output_type": "stream",
          "name": "stdout",
          "text": [
            "Cleaning text data...\n",
            "\n",
            "Sentiment distribution:\n",
            "Sentiment\n",
            "0    1244211\n",
            "1     605912\n",
            "Name: count, dtype: int64\n"
          ]
        }
      ]
    },
    {
      "cell_type": "markdown",
      "source": [
        "3. **Train-Test Split**  \n",
        "   Split the cleaned and tokenized dataset into **training** and **testing** sets using `train_test_split` from `sklearn.model_selection`.\n"
      ],
      "metadata": {
        "id": "0rLwl1v38sdD"
      }
    },
    {
      "cell_type": "code",
      "source": [
        "# Train-test split\n",
        "X = df['cleaned_text']\n",
        "y = df['Sentiment']\n",
        "X_train, X_test, y_train, y_test = train_test_split(X, y, test_size=0.2, random_state=42, stratify=y)\n"
      ],
      "metadata": {
        "id": "2xPtj-YF86LF"
      },
      "execution_count": null,
      "outputs": []
    },
    {
      "cell_type": "markdown",
      "source": [
        "4. **TF-IDF Vectorization**  \n",
        "   Import and use the `TfidfVectorizer` from `sklearn.feature_extraction.text` to transform the training and testing texts into numerical feature vectors.\n"
      ],
      "metadata": {
        "id": "j3maPFvX8vnp"
      }
    },
    {
      "cell_type": "code",
      "source": [
        "# TF-IDF Vectorization\n",
        "print(\"\\nVectorizing text data...\")\n",
        "tfidf_vectorizer = TfidfVectorizer(max_features=5000, ngram_range=(1, 2))\n",
        "X_train_tfidf = tfidf_vectorizer.fit_transform(X_train)\n",
        "X_test_tfidf = tfidf_vectorizer.transform(X_test)"
      ],
      "metadata": {
        "colab": {
          "base_uri": "https://localhost:8080/"
        },
        "id": "yZ5zNUNP-LiO",
        "outputId": "31459dc8-308c-401d-fac5-aba0fc9d51f5"
      },
      "execution_count": null,
      "outputs": [
        {
          "output_type": "stream",
          "name": "stdout",
          "text": [
            "\n",
            "Vectorizing text data...\n"
          ]
        }
      ]
    },
    {
      "cell_type": "markdown",
      "source": [
        "5. **Model Training and Evaluation**  \n",
        "   Import **Logistic Regression** (or any machine learning model of your choice) from `sklearn.linear_model`. Train it on the TF-IDF-embedded training data, then evaluate it using the test set.  \n",
        "   - Print the **classification report** using `classification_report` from `sklearn.metrics`."
      ],
      "metadata": {
        "id": "fJT238cY8xtW"
      }
    },
    {
      "cell_type": "code",
      "source": [
        "# Model Training and Evaluation\n",
        "print(\"\\nTraining model...\")\n",
        "model = LogisticRegression(max_iter=1000, class_weight='balanced')\n",
        "model.fit(X_train_tfidf, y_train)\n",
        "y_pred = model.predict(X_test_tfidf)\n",
        "\n",
        "# Print classification report\n",
        "print(\"\\nClassification Report:\")\n",
        "print(classification_report(y_test, y_pred, target_names=['Negative (0)', 'Positive (1)']))\n",
        "\n",
        "# Print some example predictions\n",
        "print(\"\\nSample predictions:\")\n",
        "sample = X_test.sample(5, random_state=42)\n",
        "for text, pred in zip(sample, model.predict(tfidf_vectorizer.transform(sample))):\n",
        "    print(f\"\\nOriginal: {df[df['cleaned_text'] == text]['text'].values[0]}\")\n",
        "    print(f\"Cleaned: {text}\")\n",
        "    print(f\"Predicted sentiment: {pred}\")\n"
      ],
      "metadata": {
        "colab": {
          "base_uri": "https://localhost:8080/"
        },
        "id": "b2lrpct1-OBR",
        "outputId": "636729c1-cf32-46e4-aacd-8f62d36af18c"
      },
      "execution_count": null,
      "outputs": [
        {
          "output_type": "stream",
          "name": "stdout",
          "text": [
            "\n",
            "Training model...\n",
            "\n",
            "Classification Report:\n",
            "              precision    recall  f1-score   support\n",
            "\n",
            "Negative (0)       0.94      0.90      0.92    248842\n",
            "Positive (1)       0.82      0.89      0.85    121183\n",
            "\n",
            "    accuracy                           0.90    370025\n",
            "   macro avg       0.88      0.90      0.89    370025\n",
            "weighted avg       0.90      0.90      0.90    370025\n",
            "\n",
            "\n",
            "Sample predictions:\n",
            "\n",
            "Original: RT @Phil_Lewis_: Washington State Attorney General after Trump's \"SEE YOU IN COURT\" tweet: \n",
            "\n",
            "?\"We have seen him in court twice, and https://t.co/R48rgQI8Tt\n",
            "Cleaned: rt washington state attorney general trump see court tweet seen court twice\n",
            "Predicted sentiment: 1\n",
            "\n",
            "Original: RT @michaelianblack: Today:\n",
            "1. Trump lost appeal.\n",
            "2. NYT broke China won't take our call.\n",
            "3. Wash P broke Flynn lied about Russia.\n",
            "4. Conway broke the law.\n",
            "TODAY\n",
            "Cleaned: rt today trump lost appeal nyt broke china wont take call wash p broke flynn lied russia conway broke law today\n",
            "Predicted sentiment: 0\n",
            "\n",
            "Original: RT @EvilGalProds: omg if Rosie O'Donnell plays Steve Bannon on this weekend's #SNL, it might actually be enough to get Trump to fire him\n",
            "Cleaned: rt omg rosie odonnell play steve bannon weekend snl might actually enough get trump fire\n",
            "Predicted sentiment: 0\n",
            "\n",
            "Original: RT @BreakingNewss3: Trump Lawyers To Court Reviewing Muslim Travel Ban: Stay Out Of It https://t.co/sCffxIlGK3 #breakingnews\n",
            "Cleaned: rt trump lawyer court reviewing muslim travel ban stay breakingnews\n",
            "Predicted sentiment: 0\n",
            "\n",
            "Original: RT @now7grandkids: Flynn isn't the only character in the 45 foreign policy farce, remember roles played by Page, Manafort, and Trump himself. Investigate now.\n",
            "Cleaned: rt flynn isnt character foreign policy farce remember role played page manafort trump investigate\n",
            "Predicted sentiment: 1\n"
          ]
        }
      ]
    }
  ]
}